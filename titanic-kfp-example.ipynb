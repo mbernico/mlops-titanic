{
 "cells": [
  {
   "cell_type": "markdown",
   "metadata": {},
   "source": [
    "# Titanic KFP Example\n",
    "\n",
    "This example demonstrates how to use managed AI Pipelines, CAIP Training, and CAIP Predictions with the Kaggle titanic dataset. We will build a KFP that will:\n",
    "1. Split the dataset into train and test\n",
    "1. Peform feature engineering on the train dataset and apply that feature engineering to the test dataset.\n",
    "1. Train a keras model on the data (maybe on Cloud AI Platform Training)\n",
    "1. Hyperparameter search the keras model.\n",
    "1. Push the best keras model to Cloud AI Platform Serving\n",
    "\n",
    "## Prereqs:\n",
    "1. Install the [KFP SDK](https://www.kubeflow.org/docs/pipelines/sdk/install-sdk/).\n",
    "1. Create an AI Pipelines instance.\n",
    "1. Copy the [Kaggle titanic train.csv and test.csv](https://www.kaggle.com/c/titanic) to GCS"
   ]
  },
  {
   "cell_type": "code",
   "execution_count": 2,
   "metadata": {},
   "outputs": [],
   "source": [
    "import os\n",
    "import kfp"
   ]
  },
  {
   "cell_type": "code",
   "execution_count": 8,
   "metadata": {},
   "outputs": [],
   "source": [
    "input_data = \"gs://xoonij-titanic-mlops/input.csv\"\n",
    "train_output = \"gs://xoonij-titanic-mlops/train.csv\"\n",
    "val_output = \"gs://xoonij-titanic-mlops/val.csv\""
   ]
  },
  {
   "cell_type": "code",
   "execution_count": 4,
   "metadata": {},
   "outputs": [],
   "source": [
    "split_dataset_op = kfp.components.load_component_from_file(os.path.join('components/split_dataset', 'component.yaml')) "
   ]
  },
  {
   "cell_type": "code",
   "execution_count": 5,
   "metadata": {},
   "outputs": [],
   "source": [
    "@kfp.dsl.pipeline(\n",
    "    name = \"Titanic KFP Pipeline\",\n",
    "    description = \"Example pipeline using the Titanic Dataset.\"\n",
    "    )\n",
    "def titanic_kfp_pipeline(input_data: str, \n",
    "                         train_output: str, \n",
    "                         val_output:str):\n",
    "    \"\"\"KubeFlow pipeline example for Titanic Dataset\"\"\"\n",
    "    split_dataset_op(input_data, train_output, val_output)"
   ]
  },
  {
   "cell_type": "code",
   "execution_count": 6,
   "metadata": {},
   "outputs": [],
   "source": [
    "kfp.compiler.Compiler().compile(titanic_kfp_pipeline,  'titanic-kfp-pipeline.zip')"
   ]
  },
  {
   "cell_type": "code",
   "execution_count": 7,
   "metadata": {},
   "outputs": [
    {
     "data": {
      "text/html": [
       "Experiment link <a href=\"http://bdcf010b13b422b-dot-us-central2.pipelines.googleusercontent.com/#/experiments/details/b34b713b-dbda-4fac-b3f1-35d2a5ee3ffd\" target=\"_blank\" >here</a>"
      ],
      "text/plain": [
       "<IPython.core.display.HTML object>"
      ]
     },
     "metadata": {},
     "output_type": "display_data"
    },
    {
     "data": {
      "text/html": [
       "Run link <a href=\"http://bdcf010b13b422b-dot-us-central2.pipelines.googleusercontent.com/#/runs/details/f5a0c252-23ec-45e4-be4a-12a9a4338630\" target=\"_blank\" >here</a>"
      ],
      "text/plain": [
       "<IPython.core.display.HTML object>"
      ]
     },
     "metadata": {},
     "output_type": "display_data"
    }
   ],
   "source": [
    "client = kfp.Client(host='bdcf010b13b422b-dot-us-central2.pipelines.googleusercontent.com')\n",
    "my_experiment = client.create_experiment(name='titanic-kfp-pipeline')\n",
    "my_run = client.run_pipeline(my_experiment.id, 'titanic-kfp-pipeline', 'titanic-kfp-pipeline.zip')"
   ]
  },
  {
   "cell_type": "code",
   "execution_count": null,
   "metadata": {},
   "outputs": [],
   "source": []
  }
 ],
 "metadata": {
  "environment": {
   "name": "tf2-2-3-gpu.2-3.m58",
   "type": "gcloud",
   "uri": "gcr.io/deeplearning-platform-release/tf2-2-3-gpu.2-3:m58"
  },
  "kernelspec": {
   "display_name": "Python 3",
   "language": "python",
   "name": "python3"
  },
  "language_info": {
   "codemirror_mode": {
    "name": "ipython",
    "version": 3
   },
   "file_extension": ".py",
   "mimetype": "text/x-python",
   "name": "python",
   "nbconvert_exporter": "python",
   "pygments_lexer": "ipython3",
   "version": "3.7.8"
  }
 },
 "nbformat": 4,
 "nbformat_minor": 4
}
